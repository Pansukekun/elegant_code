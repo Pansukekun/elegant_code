{
  "nbformat": 4,
  "nbformat_minor": 0,
  "metadata": {
    "colab": {
      "provenance": [],
      "authorship_tag": "ABX9TyNwboXjZa55LPvP7gsSgY8G",
      "include_colab_link": true
    },
    "kernelspec": {
      "name": "python3",
      "display_name": "Python 3"
    },
    "language_info": {
      "name": "python"
    }
  },
  "cells": [
    {
      "cell_type": "markdown",
      "metadata": {
        "id": "view-in-github",
        "colab_type": "text"
      },
      "source": [
        "<a href=\"https://colab.research.google.com/github/yukinaga/elegant_code/blob/main/section_2/04_exercise.ipynb\" target=\"_parent\"><img src=\"https://colab.research.google.com/assets/colab-badge.svg\" alt=\"Open In Colab\"/></a>"
      ]
    },
    {
      "cell_type": "markdown",
      "source": [
        "# 演習\n",
        "ロジックの流れがシンプルでない「読みにくい」コードを修正し、「読みやすいコード」にしましょう。"
      ],
      "metadata": {
        "id": "4OZWWGeqA3Gj"
      }
    },
    {
      "cell_type": "markdown",
      "source": [
        "## 「読みにくいコード」を「読みやすいコードに」\n",
        "以下の家を表すクラスを関数内で使用します。"
      ],
      "metadata": {
        "id": "lTqFZeT7wR1_"
      }
    },
    {
      "cell_type": "code",
      "source": [
        "class House:\n",
        "    def __init__(self, place, price):\n",
        "        self.place = place\n",
        "        self.price = price"
      ],
      "metadata": {
        "id": "i4EPXa3Tou6w"
      },
      "execution_count": null,
      "outputs": []
    },
    {
      "cell_type": "markdown",
      "source": [
        "以下は、家の場所と価格を設定する関数です。  \n",
        "分岐が多く、処理の流れが追いにくいコードです。"
      ],
      "metadata": {
        "id": "WjdnWJHCpUxB"
      }
    },
    {
      "cell_type": "code",
      "source": [
        "def set_house(place, price):\n",
        "    if place is not None:\n",
        "        if price is not None:\n",
        "            house = House(place, price)\n",
        "            if house is not None:\n",
        "                return house\n",
        "            else:\n",
        "                return None\n",
        "        else:\n",
        "            return None\n",
        "    else:\n",
        "        return None\n",
        "\n",
        "house = set_house(\"Tokyo\", 50000000)\n",
        "print(\"Place:\", house.place, \"Price:\", house.price)"
      ],
      "metadata": {
        "id": "9QQc0YpmpWOI"
      },
      "execution_count": null,
      "outputs": []
    },
    {
      "cell_type": "markdown",
      "source": [
        "上記のコードを修正し、「メインの流れ」がどこにあるかが明瞭なコードにしましょう。    \n",
        "以下のセルにコードの追記を行ってください。   "
      ],
      "metadata": {
        "id": "Hogbmo8tCA9L"
      }
    },
    {
      "cell_type": "code",
      "source": [
        "def set_house(place, price):\n",
        "    # ---- ここからコードを書く ----\n",
        "\n",
        "\n",
        "\n",
        "\n",
        "\n",
        "\n",
        "\n",
        "\n",
        "\n",
        "\n",
        "\n",
        "    # ---- ここまで ----\n",
        "\n",
        "house = set_house(\"Okinawa\", 25000000)\n",
        "print(\"Place:\", house.place, \"Price:\", house.price)"
      ],
      "metadata": {
        "id": "cXRmekBUrnpB"
      },
      "execution_count": null,
      "outputs": []
    },
    {
      "cell_type": "markdown",
      "source": [
        "## 解答例\n",
        "以下は解答例です。"
      ],
      "metadata": {
        "id": "iPMA4SpI9tSV"
      }
    },
    {
      "cell_type": "code",
      "source": [
        "def set_house(place, price):\n",
        "    # ---- ここからコードを書く ----\n",
        "    if place is None:\n",
        "        return None\n",
        "    \n",
        "    if price is None:\n",
        "        return None\n",
        "\n",
        "    house = House(place, price)\n",
        "    if house is None:\n",
        "        return None\n",
        "\n",
        "    return house\n",
        "    # ---- ここまで ----\n",
        "\n",
        "house = set_house(\"Okinawa\", 25000000)\n",
        "print(\"Place:\", house.place, \"Price:\", house.price)"
      ],
      "metadata": {
        "id": "yIr_v8hY-FWy"
      },
      "execution_count": null,
      "outputs": []
    }
  ]
}