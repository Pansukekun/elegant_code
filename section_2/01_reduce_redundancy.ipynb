{
  "nbformat": 4,
  "nbformat_minor": 0,
  "metadata": {
    "colab": {
      "provenance": [],
      "authorship_tag": "ABX9TyNBIyo6RUzFlIEf5Dud+SN5",
      "include_colab_link": true
    },
    "kernelspec": {
      "name": "python3",
      "display_name": "Python 3"
    },
    "language_info": {
      "name": "python"
    }
  },
  "cells": [
    {
      "cell_type": "markdown",
      "metadata": {
        "id": "view-in-github",
        "colab_type": "text"
      },
      "source": [
        "<a href=\"https://colab.research.google.com/github/yukinaga/elegant_code/blob/main/section_2/01_reduce_redundancy.ipynb\" target=\"_parent\"><img src=\"https://colab.research.google.com/assets/colab-badge.svg\" alt=\"Open In Colab\"/></a>"
      ]
    },
    {
      "cell_type": "markdown",
      "source": [
        "# 冗長な処理の排除\n",
        "コードから冗長な箇所を排除することで、コードの可読性が向上し処理の流れが追いやすくなります。  "
      ],
      "metadata": {
        "id": "7NupRApz2qAc"
      }
    },
    {
      "cell_type": "markdown",
      "source": [
        "## 冗長なコードをシンプルに\n",
        "以下は冗長なコードの例です。  \n",
        "無駄な分岐や変数の重複が気になるところです。"
      ],
      "metadata": {
        "id": "Q8Te79-1LwLf"
      }
    },
    {
      "cell_type": "code",
      "source": [
        "import numpy as np\n",
        "\n",
        "greeting = \"\"\n",
        "rand_value = np.random.rand()\n",
        "\n",
        "if rand_value < 0.5:\n",
        "    greeting = \"Good morning!\"\n",
        "    print(greeting)\n",
        "else:\n",
        "    greeting = \"Hello!\"\n",
        "    print(greeting)"
      ],
      "metadata": {
        "id": "24pCdyPWL0W3"
      },
      "execution_count": null,
      "outputs": []
    },
    {
      "cell_type": "markdown",
      "source": [
        "このようなコードは、if文と初期値を工夫するだけで短くなり、すっきりとした印象になります。  \n"
      ],
      "metadata": {
        "id": "oJUuurZoUNBJ"
      }
    },
    {
      "cell_type": "code",
      "source": [
        "import numpy as np\n",
        "\n",
        "rand_value = np.random.rand()\n",
        "\n",
        "greeting = \"Hello!\"\n",
        "if rand_value < 0.5:\n",
        "    greeting = \"Good morning!\"\n",
        "print(greeting)"
      ],
      "metadata": {
        "id": "_1bsIPs9Ue-g"
      },
      "execution_count": null,
      "outputs": []
    },
    {
      "cell_type": "markdown",
      "source": [
        "## 可能な限り否定を避ける\n",
        "以下のコードでは、条件判定に「否定」を使っているので分岐の条件が分かりにくくなっています。"
      ],
      "metadata": {
        "id": "KoqvtoBN3JaS"
      }
    },
    {
      "cell_type": "code",
      "source": [
        "import numpy as np\n",
        "\n",
        "greeting = \"\"\n",
        "rand_value = np.random.randint(2)\n",
        "\n",
        "if rand_value != 0:  # 0でなければ\n",
        "    greeting = \"Good morning!\"\n",
        "else:\n",
        "    greeting = \"Hello!\"\n",
        "print(greeting)"
      ],
      "metadata": {
        "id": "SLhu_RmIY4nS"
      },
      "execution_count": null,
      "outputs": []
    },
    {
      "cell_type": "markdown",
      "source": [
        "判定に否定を使うのは可能な限り避けましょう。  \n",
        "文章と同じで、否定が多いコードは読みにくくなります。"
      ],
      "metadata": {
        "id": "CG2FSfqgZkQn"
      }
    },
    {
      "cell_type": "code",
      "source": [
        "import numpy as np\n",
        "\n",
        "greeting = \"\"\n",
        "rand_value = np.random.randint(2)\n",
        "\n",
        "if rand_value == 1:  # 1であれば\n",
        "    greeting = \"Good morning!\"\n",
        "else:\n",
        "    greeting = \"Hello!\"\n",
        "print(greeting)"
      ],
      "metadata": {
        "id": "s_suwKYWZjzk"
      },
      "execution_count": null,
      "outputs": []
    },
    {
      "cell_type": "markdown",
      "source": [
        "## 読みやすさと簡潔さのバランス\n",
        "必ずしも、コードが短ければいいわけではありません。  \n",
        "変数を1つ挟むとこで可読性が向上することがあります。  \n",
        "以下の例では、処理の途中経過が分かりにくいため、コードの解読に時間がかかってしまいます。  "
      ],
      "metadata": {
        "id": "IV72GdD6FrM7"
      }
    },
    {
      "cell_type": "code",
      "source": [
        "line = \"Taro:25:Male\\n\"\n",
        "\n",
        "if line.split(\":\")[2].strip() == \"Male\":\n",
        "    print(\"He is a gentleman.\")"
      ],
      "metadata": {
        "id": "gn_yK92cFtpd"
      },
      "execution_count": null,
      "outputs": []
    },
    {
      "cell_type": "markdown",
      "source": [
        "以下のように変数を間に挟むことで、途中でどんな処理が行われているのかが分かりやすくなります。  "
      ],
      "metadata": {
        "id": "f3b6UWqFdSFl"
      }
    },
    {
      "cell_type": "code",
      "source": [
        "line = \"Taro:25:Male\\n\"\n",
        "\n",
        "gender = line.split(\":\")[2].strip()\n",
        "if gender == \"Male\":\n",
        "    print(\"He is a gentleman.\")"
      ],
      "metadata": {
        "id": "D9r9GHjZIo05"
      },
      "execution_count": null,
      "outputs": []
    },
    {
      "cell_type": "markdown",
      "source": [
        "## 「定数」は最小限に\n",
        "以下の例では、1から連番の整数を全て記述しています。   \n",
        "このような書き方は、記述ミスに脆弱で後から管理するのが大変です。  "
      ],
      "metadata": {
        "id": "cU_y0ILZKvP6"
      }
    },
    {
      "cell_type": "code",
      "source": [
        "numbers = [1, 2, 3, 4, 5 ,6, 7, 8, 9]\n",
        "for num in numbers:\n",
        "    print(num)"
      ],
      "metadata": {
        "id": "Cl1Z_PsDKz2T"
      },
      "execution_count": null,
      "outputs": []
    },
    {
      "cell_type": "markdown",
      "source": [
        "以下のコードでは、たった1つの定数を設定するだけで連番のリストを生成します。  \n",
        "この例のように、設定する定数は最小限にしましょう。  "
      ],
      "metadata": {
        "id": "va3TXsPyhPI6"
      }
    },
    {
      "cell_type": "code",
      "source": [
        "max_num = 10\n",
        "numbers = list(range(1, max_num))\n",
        "for num in numbers:\n",
        "    print(num)"
      ],
      "metadata": {
        "id": "FeKHCCW5hPUK"
      },
      "execution_count": null,
      "outputs": []
    }
  ]
}