{
  "nbformat": 4,
  "nbformat_minor": 0,
  "metadata": {
    "colab": {
      "provenance": [],
      "authorship_tag": "ABX9TyPFZ9uuzB31o+Ex3HIZkHcm",
      "include_colab_link": true
    },
    "kernelspec": {
      "name": "python3",
      "display_name": "Python 3"
    },
    "language_info": {
      "name": "python"
    }
  },
  "cells": [
    {
      "cell_type": "markdown",
      "metadata": {
        "id": "view-in-github",
        "colab_type": "text"
      },
      "source": [
        "<a href=\"https://colab.research.google.com/github/yukinaga/elegant_code/blob/main/section_2/02_simple_branch.ipynb\" target=\"_parent\"><img src=\"https://colab.research.google.com/assets/colab-badge.svg\" alt=\"Open In Colab\"/></a>"
      ]
    },
    {
      "cell_type": "markdown",
      "source": [
        "# 複雑な条件分岐を避ける\n",
        "条件分岐の箇所はコードの可読性を大きく左右します。  \n",
        "なるべくシンプルに、なおかつ文章のように読みやすくなるように注意を払いましょう。  "
      ],
      "metadata": {
        "id": "FdhxniUcAK2u"
      }
    },
    {
      "cell_type": "markdown",
      "source": [
        "## 条件判定を関数にする\n",
        "以下の例ではうるう年を判定していますが、条件分岐が複雑で読みにくいコードとなっています。  "
      ],
      "metadata": {
        "id": "dLXjDJe1AGRh"
      }
    },
    {
      "cell_type": "code",
      "source": [
        "year = 2020\n",
        "\n",
        "if (year%4==0 and year%100!=0) or year%400==0:\n",
        "    print(\"Leap year!\")"
      ],
      "metadata": {
        "id": "W4cxZjbGALun"
      },
      "execution_count": null,
      "outputs": []
    },
    {
      "cell_type": "markdown",
      "source": [
        "このコードは、うるう年を判定する関数を設定することで読みやすくなります。  \n",
        "分岐のネストが深くなりすぎないように注意しましょう。  "
      ],
      "metadata": {
        "id": "m35h1J4Pkh3t"
      }
    },
    {
      "cell_type": "code",
      "source": [
        "def is_leap_year(year):\n",
        "\n",
        "    if year%400 == 0:\n",
        "        # 400で割り切れるので、うるう年\n",
        "        return True\n",
        "    \n",
        "    if year%100 == 0:\n",
        "        # 400で割り切れなくて、100で割り切れるので平年\n",
        "        return False\n",
        "\n",
        "    if year%4 == 0:\n",
        "        # 400でも100でも割り切れなくて4で割り切れるので、うるう年\n",
        "        return True\n",
        "\n",
        "    # 上記以外は平年\n",
        "    return False"
      ],
      "metadata": {
        "id": "Z7WHtsCKBIpN"
      },
      "execution_count": null,
      "outputs": []
    },
    {
      "cell_type": "markdown",
      "source": [
        "この関数を使えば、判定の箇所ががすっきりと読みやすくなります。"
      ],
      "metadata": {
        "id": "lmhDihpImRBe"
      }
    },
    {
      "cell_type": "code",
      "source": [
        "year = 2400\n",
        "\n",
        "if is_leap_year(year):  # うるう年の判定を敷いてるのが明確に\n",
        "    print(\"Leap year!\")"
      ],
      "metadata": {
        "id": "rTnU9-egA-rC"
      },
      "execution_count": null,
      "outputs": []
    }
  ]
}