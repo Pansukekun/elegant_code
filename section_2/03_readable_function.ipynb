{
  "nbformat": 4,
  "nbformat_minor": 0,
  "metadata": {
    "colab": {
      "provenance": [],
      "authorship_tag": "ABX9TyPxRGVhFs0aFDz7A2lC4qcw",
      "include_colab_link": true
    },
    "kernelspec": {
      "name": "python3",
      "display_name": "Python 3"
    },
    "language_info": {
      "name": "python"
    }
  },
  "cells": [
    {
      "cell_type": "markdown",
      "metadata": {
        "id": "view-in-github",
        "colab_type": "text"
      },
      "source": [
        "<a href=\"https://colab.research.google.com/github/yukinaga/elegant_code/blob/main/section_2/03_readable_function.ipynb\" target=\"_parent\"><img src=\"https://colab.research.google.com/assets/colab-badge.svg\" alt=\"Open In Colab\"/></a>"
      ]
    },
    {
      "cell_type": "markdown",
      "source": [
        "# 関数の処理を分かりやすく\n",
        "関数は、「メインの流れ」がどこにあるかを意識しながら記述すると読みやすくなります。  "
      ],
      "metadata": {
        "id": "kfNR4ECoAQJq"
      }
    },
    {
      "cell_type": "markdown",
      "source": [
        "## 「メインの流れ」を意識する\n",
        "以下のユーザーを表すクラスを関数内で使用します。"
      ],
      "metadata": {
        "id": "lTqFZeT7wR1_"
      }
    },
    {
      "cell_type": "code",
      "source": [
        "class User:\n",
        "    def __init__(self, name, age):\n",
        "        self.name = name\n",
        "        self.age =age"
      ],
      "metadata": {
        "id": "i4EPXa3Tou6w"
      },
      "execution_count": null,
      "outputs": []
    },
    {
      "cell_type": "markdown",
      "source": [
        "以下は、ユーザの名前と年齢を設定する関数です。  \n",
        "分岐が多く、処理の流れが追いにくいコードです。"
      ],
      "metadata": {
        "id": "WjdnWJHCpUxB"
      }
    },
    {
      "cell_type": "code",
      "source": [
        "def set_user(name, age):\n",
        "    if name is not None:\n",
        "        if age is not None:\n",
        "            user = User(name, age)\n",
        "            if user is not None:\n",
        "                return user\n",
        "            else:\n",
        "                return None\n",
        "        else:\n",
        "            return None\n",
        "    else:\n",
        "        return None\n",
        "\n",
        "user = set_user(\"Taro\", 25)\n",
        "print(\"Name:\", user.name, \"Age:\", user.age)"
      ],
      "metadata": {
        "id": "9QQc0YpmpWOI"
      },
      "execution_count": null,
      "outputs": []
    },
    {
      "cell_type": "markdown",
      "source": [
        "コードは文章を読むように読めるのが大事ですが、上記は分岐が多くてネストが深く、そのようなコードになっていません。  \n",
        "一方、以下は文章のように「メインの流れ」がどこにあるかを意識して書かれた関数です。  \n",
        "`else`の使用は控えており、`None`でない場合の流れがメインとなっています。  "
      ],
      "metadata": {
        "id": "Hogbmo8tCA9L"
      }
    },
    {
      "cell_type": "code",
      "source": [
        "def set_user(name, age):\n",
        "\n",
        "    if name is None:\n",
        "        return None  # サブの流れ\n",
        "    \n",
        "    if age is None:\n",
        "        return None  # サブの流れ\n",
        "\n",
        "    user = User(name, age)\n",
        "    if user is None:\n",
        "        return None  # サブの流れ\n",
        "\n",
        "    return user\n",
        "\n",
        "user = set_user(\"Hanako\", 24)\n",
        "print(\"Name:\", user.name, \"Age:\", user.age)"
      ],
      "metadata": {
        "id": "cXRmekBUrnpB"
      },
      "execution_count": null,
      "outputs": []
    },
    {
      "cell_type": "markdown",
      "source": [
        "それ以上処理を行う必要が無い場合は、関数を早めに抜け出してしまった方が読みやすくなります。"
      ],
      "metadata": {
        "id": "OOeX1vnX1TdA"
      }
    },
    {
      "cell_type": "markdown",
      "source": [
        "## 「メインの流れ」が複数ある場合\n",
        "メインの処理の流れが2つ以上あり、いずれも同等の場合は、`else`もしくは`elif`を使っても問題ありません。  "
      ],
      "metadata": {
        "id": "2TqGlWT-Bc4W"
      }
    },
    {
      "cell_type": "code",
      "source": [
        "def guide_user(user):\n",
        "\n",
        "    if user.age < 13:\n",
        "        message = \"大部分のコンテンツに制限があります。\"\n",
        "        # 13歳未満の場合の処理\n",
        "        # ...\n",
        "        return message  # サブの流れ\n",
        "\n",
        "    elif user.age < 18:\n",
        "        message = \"一部のコンテンツに制限があります。\"\n",
        "        # 18歳未満の場合の処理\n",
        "        # ...\n",
        "        return message  # サブの流れ\n",
        "\n",
        "    else:\n",
        "        message = \"コンテンツの制限はありません。\"\n",
        "        # 18歳以上の場合の処理\n",
        "        # ...\n",
        "        return message  # サブの流れ\n",
        "\n",
        "user = set_user(\"Jiro\", 17)\n",
        "message = guide_user(user)\n",
        "print(message)"
      ],
      "metadata": {
        "id": "2H3_LsBkBcB1"
      },
      "execution_count": null,
      "outputs": []
    }
  ]
}