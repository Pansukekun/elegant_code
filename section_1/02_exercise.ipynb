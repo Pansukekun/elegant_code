{
  "nbformat": 4,
  "nbformat_minor": 0,
  "metadata": {
    "colab": {
      "provenance": [],
      "authorship_tag": "ABX9TyObAG3WWhJUfL01QHHywmMZ",
      "include_colab_link": true
    },
    "kernelspec": {
      "name": "python3",
      "display_name": "Python 3"
    },
    "language_info": {
      "name": "python"
    }
  },
  "cells": [
    {
      "cell_type": "markdown",
      "metadata": {
        "id": "view-in-github",
        "colab_type": "text"
      },
      "source": [
        "<a href=\"https://colab.research.google.com/github/yukinaga/elegant_code/blob/main/section_1/02_exercise.ipynb\" target=\"_parent\"><img src=\"https://colab.research.google.com/assets/colab-badge.svg\" alt=\"Open In Colab\"/></a>"
      ]
    },
    {
      "cell_type": "markdown",
      "source": [
        "# 演習\n",
        "Pythonによる「二部探索」のコードを、PEP8に従うように修正しましょう。"
      ],
      "metadata": {
        "id": "QXwpheqAHSsk"
      }
    },
    {
      "cell_type": "markdown",
      "metadata": {
        "id": "u30HTih52a9d"
      },
      "source": [
        "## 二分探索のコード\n",
        "以下の二部探索のコードを、PEP8に従うように修正しましょう。  \n",
        "**二分探索**（binary search）は、探索の間隔を半分に分割しながら目的の要素を探し出すアルゴリズムです。  \n",
        "データが多いほど線型探索よりも性能がよくなりますが、探索の対象となるデータはソート済みである必要があります。    \n",
        "二分探索は、以下の手順で表すことができます。  \n",
        "1. データの中央に位置する要素を決める\n",
        "2. 中央の要素が目的の要素でない場合、値を比較し探索範囲を中央値の前、もしくは後に絞る  \n",
        "中央の要素が目的の要素と一致する場合、探索完了\n",
        "3. 2.に戻る\n",
        "  \n",
        "適切なインデントの挿入、改行などを行い、コードを読みやすくしましょう。"
      ]
    },
    {
      "cell_type": "code",
      "metadata": {
        "id": "SgCGKIrZ5wcs"
      },
      "source": [
        "def binary_search(data, target):\n",
        "  min = 0  # 探索範囲の最小インデックス\n",
        "  max = len(data)-1  # 探索範囲の最大インデックス\n",
        "\n",
        "  while min <= max:\n",
        "       center = (min+max) // 2  # 探索範囲の中央インデックス\n",
        "       if data[center] == target:\n",
        "          return center\n",
        "       elif target > data[center]:\n",
        "           min = center + 1\n",
        "       else:\n",
        "             max = center - 1\n",
        "  return None"
      ],
      "execution_count": null,
      "outputs": []
    },
    {
      "cell_type": "code",
      "source": [
        "data = [11,12, 13, 14,15, 16, 17, 18,19, 20, 21,    22]  # 探索対象のデータ\n",
        "\n",
        "target = 17  # 探索したい値\n",
        "print(\"一致した要素のインデックス: \", binary_search(data, target))"
      ],
      "metadata": {
        "id": "4NHNj4OaigN_"
      },
      "execution_count": null,
      "outputs": []
    },
    {
      "cell_type": "markdown",
      "source": [
        "## 解答例\n",
        "以下は解答例です。"
      ],
      "metadata": {
        "id": "JCv_w1GVedXy"
      }
    },
    {
      "cell_type": "code",
      "source": [
        "def binary_search(data, target):\n",
        "    min = 0  # 探索範囲の最小インデックス\n",
        "    max = len(data)-1  # 探索範囲の最大インデックス\n",
        "\n",
        "    while min <= max:\n",
        "        center = (min+max) // 2  # 探索範囲の中央インデックス\n",
        "        if data[center] == target:\n",
        "            return center\n",
        "        elif target > data[center]:\n",
        "            min = center + 1\n",
        "        else:\n",
        "            max = center - 1\n",
        "    return None"
      ],
      "metadata": {
        "id": "pWVv2XQYiG4a"
      },
      "execution_count": null,
      "outputs": []
    },
    {
      "cell_type": "code",
      "source": [
        "# 探索対象のデータ\n",
        "data = [\n",
        "    11, 12, 13, 14,\n",
        "    15, 16, 17, 18,\n",
        "    19, 20, 21, 22\n",
        "    ]\n",
        "\n",
        "target = 17  # 探索したい値\n",
        "print(\"一致した要素のインデックス: \", binary_search(data, target))"
      ],
      "metadata": {
        "id": "yUGcEZe2ijYn"
      },
      "execution_count": null,
      "outputs": []
    }
  ]
}