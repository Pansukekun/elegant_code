{
  "nbformat": 4,
  "nbformat_minor": 0,
  "metadata": {
    "colab": {
      "provenance": [],
      "authorship_tag": "ABX9TyO1pjNh8B1MhAF9hl/xovaj",
      "include_colab_link": true
    },
    "kernelspec": {
      "name": "python3",
      "display_name": "Python 3"
    },
    "language_info": {
      "name": "python"
    }
  },
  "cells": [
    {
      "cell_type": "markdown",
      "metadata": {
        "id": "view-in-github",
        "colab_type": "text"
      },
      "source": [
        "<a href=\"https://colab.research.google.com/github/yukinaga/elegant_code/blob/main/section_1/01_python_style.ipynb\" target=\"_parent\"><img src=\"https://colab.research.google.com/assets/colab-badge.svg\" alt=\"Open In Colab\"/></a>"
      ]
    },
    {
      "cell_type": "markdown",
      "source": [
        "# 読みやすいPythonのコード\n",
        "「読みやすいコード」の例を見ていきます。  \n",
        "Pythonのコーディング規約「PEP8」に従ったPythonのコードを読んでみましょう。  "
      ],
      "metadata": {
        "id": "lOMZLpJv8_wh"
      }
    },
    {
      "cell_type": "markdown",
      "source": [
        "## PEP8\n",
        "「PEP8」は、以下のリンク先に日本語の記述があります。  \n",
        "https://pep8-ja.readthedocs.io/ja/latest/  \n",
        "\n",
        "PEP8には以下のルールが含まれます。  \n",
        "\n",
        "* 分岐やループ、関数やメソッドなどで行の先頭に挿入する「インデント」は、半角スペース4つにする\n",
        "* リストや関数などで、長い場合は途中で適切に改行する\n",
        "* 半角スペースの入れ方を統一する\n",
        "* etc..."
      ],
      "metadata": {
        "id": "aPCxeN4mWICn"
      }
    },
    {
      "cell_type": "markdown",
      "metadata": {
        "id": "QRPiQ8BYuknU"
      },
      "source": [
        "## 線形探索のコード\n",
        "PEP8に従うコードの例を見ていきましょう。  \n",
        "**線形探索**（linear search）は、データの先頭から終端に向かって目的の要素を探し出すアルゴリズムです。  \n",
        "先頭から順番に比較を行い、対象が見つかれば終了となります。  \n",
        "線形探索は、以下の手順で表すことができます。  \n",
        "1. データの先頭から要素を取り出す\n",
        "2. 取り出した要素の値と、探索したい値を比較する\n",
        "3. 一致していれば探索完了、一致していなければ次の要素を取り出し2へ戻る \n",
        "  \n",
        "以下は、Pythonによる線形探索の実装です。"
      ]
    },
    {
      "cell_type": "markdown",
      "source": [
        "関数内の記述、ループ、および分岐内の記述には「インデント」として先頭に半角スペース4つを挿入します。  "
      ],
      "metadata": {
        "id": "sdTejhZja42u"
      }
    },
    {
      "cell_type": "code",
      "metadata": {
        "id": "CaEQk3goz8jC"
      },
      "source": [
        "def linear_search(data, target):\n",
        "    for i in range(0, len(data)):  # 関数のインデント\n",
        "        if data[i] == target:  # ループのインデント\n",
        "            return i  # 分岐のインデント\n",
        "    return None  # 1回も一致しなかった場合Noneを返す"
      ],
      "execution_count": null,
      "outputs": []
    },
    {
      "cell_type": "markdown",
      "source": [
        "リストが長い場合は途中で適切に改行します。"
      ],
      "metadata": {
        "id": "W80IDCzQb1EP"
      }
    },
    {
      "cell_type": "code",
      "source": [
        "# リストを途中で改行\n",
        "data = [\n",
        "    13, 25, 38, 42,\n",
        "    17, 41, 24, 19,\n",
        "    65, 10, 15, 23,\n",
        "    ]\n",
        "\n",
        "target = 41  # 探索したい値\n",
        "print(\"一致した要素のインデックス: \", linear_search(data, target))"
      ],
      "metadata": {
        "id": "9fiDF2Jebu6-"
      },
      "execution_count": null,
      "outputs": []
    },
    {
      "cell_type": "markdown",
      "source": [
        "リストの要素同士の間の、半角スペースの入れ方にも注意を払いましょう。"
      ],
      "metadata": {
        "id": "kXIWH_i9dF8E"
      }
    }
  ]
}